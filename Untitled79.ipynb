{
 "cells": [
  {
   "cell_type": "code",
   "execution_count": 1,
   "id": "f7c723ba-fd3a-4de3-ac95-55e92de662aa",
   "metadata": {},
   "outputs": [
    {
     "name": "stdout",
     "output_type": "stream",
     "text": [
      "[INFO] Predicting C:\\Users\\NXTWAVE\\Downloads\\AI Movie Scene Finder\\archive\\1.mp4 + C:\\Users\\NXTWAVE\\Downloads\\AI Movie Scene Finder\\archive\\1.txt\n"
     ]
    },
    {
     "name": "stderr",
     "output_type": "stream",
     "text": [
      "C:\\Users\\NXTWAVE\\AppData\\Local\\Temp\\ipykernel_27676\\3058910614.py:43: UserWarning: PySoundFile failed. Trying audioread instead.\n",
      "  y, sr = librosa.load(video_path, sr=22050)\n",
      "C:\\Users\\NXTWAVE\\AppData\\Local\\Programs\\Python\\Python311\\Lib\\site-packages\\librosa\\core\\audio.py:184: FutureWarning: librosa.core.audio.__audioread_load\n",
      "\tDeprecated as of librosa version 0.10.0.\n",
      "\tIt will be removed in librosa version 1.0.\n",
      "  y, sr_native = __audioread_load(path, offset, duration, dtype)\n"
     ]
    },
    {
     "name": "stdout",
     "output_type": "stream",
     "text": [
      "[WARN] Audio extraction failed for C:\\Users\\NXTWAVE\\Downloads\\AI Movie Scene Finder\\archive\\1.mp4: \n",
      "[INFO] Predicting C:\\Users\\NXTWAVE\\Downloads\\AI Movie Scene Finder\\archive\\2.mp4 + C:\\Users\\NXTWAVE\\Downloads\\AI Movie Scene Finder\\archive\\2.txt\n"
     ]
    },
    {
     "name": "stderr",
     "output_type": "stream",
     "text": [
      "C:\\Users\\NXTWAVE\\AppData\\Local\\Temp\\ipykernel_27676\\3058910614.py:43: UserWarning: PySoundFile failed. Trying audioread instead.\n",
      "  y, sr = librosa.load(video_path, sr=22050)\n",
      "C:\\Users\\NXTWAVE\\AppData\\Local\\Programs\\Python\\Python311\\Lib\\site-packages\\librosa\\core\\audio.py:184: FutureWarning: librosa.core.audio.__audioread_load\n",
      "\tDeprecated as of librosa version 0.10.0.\n",
      "\tIt will be removed in librosa version 1.0.\n",
      "  y, sr_native = __audioread_load(path, offset, duration, dtype)\n"
     ]
    },
    {
     "name": "stdout",
     "output_type": "stream",
     "text": [
      "[WARN] Audio extraction failed for C:\\Users\\NXTWAVE\\Downloads\\AI Movie Scene Finder\\archive\\2.mp4: \n",
      "[INFO] Predicting C:\\Users\\NXTWAVE\\Downloads\\AI Movie Scene Finder\\archive\\3.mp4 + C:\\Users\\NXTWAVE\\Downloads\\AI Movie Scene Finder\\archive\\3.txt\n"
     ]
    },
    {
     "name": "stderr",
     "output_type": "stream",
     "text": [
      "C:\\Users\\NXTWAVE\\AppData\\Local\\Temp\\ipykernel_27676\\3058910614.py:43: UserWarning: PySoundFile failed. Trying audioread instead.\n",
      "  y, sr = librosa.load(video_path, sr=22050)\n",
      "C:\\Users\\NXTWAVE\\AppData\\Local\\Programs\\Python\\Python311\\Lib\\site-packages\\librosa\\core\\audio.py:184: FutureWarning: librosa.core.audio.__audioread_load\n",
      "\tDeprecated as of librosa version 0.10.0.\n",
      "\tIt will be removed in librosa version 1.0.\n",
      "  y, sr_native = __audioread_load(path, offset, duration, dtype)\n"
     ]
    },
    {
     "name": "stdout",
     "output_type": "stream",
     "text": [
      "[WARN] Audio extraction failed for C:\\Users\\NXTWAVE\\Downloads\\AI Movie Scene Finder\\archive\\3.mp4: \n",
      "[INFO] Predicting C:\\Users\\NXTWAVE\\Downloads\\AI Movie Scene Finder\\archive\\4.mp4 + C:\\Users\\NXTWAVE\\Downloads\\AI Movie Scene Finder\\archive\\4.txt\n"
     ]
    },
    {
     "name": "stderr",
     "output_type": "stream",
     "text": [
      "C:\\Users\\NXTWAVE\\AppData\\Local\\Temp\\ipykernel_27676\\3058910614.py:43: UserWarning: PySoundFile failed. Trying audioread instead.\n",
      "  y, sr = librosa.load(video_path, sr=22050)\n",
      "C:\\Users\\NXTWAVE\\AppData\\Local\\Programs\\Python\\Python311\\Lib\\site-packages\\librosa\\core\\audio.py:184: FutureWarning: librosa.core.audio.__audioread_load\n",
      "\tDeprecated as of librosa version 0.10.0.\n",
      "\tIt will be removed in librosa version 1.0.\n",
      "  y, sr_native = __audioread_load(path, offset, duration, dtype)\n"
     ]
    },
    {
     "name": "stdout",
     "output_type": "stream",
     "text": [
      "[WARN] Audio extraction failed for C:\\Users\\NXTWAVE\\Downloads\\AI Movie Scene Finder\\archive\\4.mp4: \n",
      "[INFO] Predicting C:\\Users\\NXTWAVE\\Downloads\\AI Movie Scene Finder\\archive\\5.mp4 + C:\\Users\\NXTWAVE\\Downloads\\AI Movie Scene Finder\\archive\\5.txt\n",
      "[WARN] Audio extraction failed for C:\\Users\\NXTWAVE\\Downloads\\AI Movie Scene Finder\\archive\\5.mp4: \n",
      "[DONE] Predictions saved to C:\\Users\\NXTWAVE\\Downloads\\AI Movie Scene Finder\\predictions.csv\n",
      "   video subtitle  predicted_label  confidence\n",
      "0  1.mp4    1.txt                1    0.989873\n",
      "1  2.mp4    2.txt                1    1.000000\n",
      "2  3.mp4    3.txt                1    0.992424\n",
      "3  4.mp4    4.txt                0    0.982196\n",
      "4  5.mp4    5.txt                0    0.918798\n"
     ]
    },
    {
     "name": "stderr",
     "output_type": "stream",
     "text": [
      "C:\\Users\\NXTWAVE\\AppData\\Local\\Temp\\ipykernel_27676\\3058910614.py:43: UserWarning: PySoundFile failed. Trying audioread instead.\n",
      "  y, sr = librosa.load(video_path, sr=22050)\n",
      "C:\\Users\\NXTWAVE\\AppData\\Local\\Programs\\Python\\Python311\\Lib\\site-packages\\librosa\\core\\audio.py:184: FutureWarning: librosa.core.audio.__audioread_load\n",
      "\tDeprecated as of librosa version 0.10.0.\n",
      "\tIt will be removed in librosa version 1.0.\n",
      "  y, sr_native = __audioread_load(path, offset, duration, dtype)\n"
     ]
    }
   ],
   "source": [
    "import os\n",
    "import pickle\n",
    "import numpy as np\n",
    "import pandas as pd\n",
    "import cv2\n",
    "import librosa\n",
    "from vaderSentiment.vaderSentiment import SentimentIntensityAnalyzer\n",
    "\n",
    "# ---------------- CONFIG ----------------\n",
    "BASE_DIR = r\"C:\\Users\\NXTWAVE\\Downloads\\AI Movie Scene Finder\"\n",
    "INPUTS = [\n",
    "    (\"1.mp4\", \"1.txt\"),\n",
    "    (\"2.mp4\", \"2.txt\"),\n",
    "    (\"3.mp4\", \"3.txt\"),\n",
    "    (\"4.mp4\", \"4.txt\"),\n",
    "    (\"5.mp4\", \"5.txt\"),\n",
    "]\n",
    "MODEL_PATH = os.path.join(BASE_DIR, \"mood_model.pkl\")\n",
    "OUT_CSV = os.path.join(BASE_DIR, \"predictions.csv\")\n",
    "\n",
    "# ---------------- HELPERS ----------------\n",
    "def extract_video_features(video_path, frame_skip=30):\n",
    "    \"\"\"Extract average color histograms as simple scene features.\"\"\"\n",
    "    cap = cv2.VideoCapture(video_path)\n",
    "    frames = []\n",
    "    idx = 0\n",
    "    while cap.isOpened():\n",
    "        ret, frame = cap.read()\n",
    "        if not ret:\n",
    "            break\n",
    "        if idx % frame_skip == 0:\n",
    "            hist = cv2.calcHist([frame], [0, 1, 2], None, [8, 8, 8],\n",
    "                                [0, 256, 0, 256, 0, 256])\n",
    "            hist = cv2.normalize(hist, hist).flatten()\n",
    "            frames.append(hist)\n",
    "        idx += 1\n",
    "    cap.release()\n",
    "    return np.array(frames).mean(axis=0)\n",
    "\n",
    "def extract_audio_features(video_path):\n",
    "    \"\"\"Extract MFCC audio features.\"\"\"\n",
    "    try:\n",
    "        y, sr = librosa.load(video_path, sr=22050)\n",
    "        mfcc = librosa.feature.mfcc(y=y, sr=sr, n_mfcc=13)\n",
    "        return mfcc.mean(axis=1)\n",
    "    except Exception as e:\n",
    "        print(f\"[WARN] Audio extraction failed for {video_path}: {e}\")\n",
    "        return np.zeros(13)\n",
    "\n",
    "def extract_text_features(sub_path):\n",
    "    \"\"\"Extract sentiment score from subtitles/text.\"\"\"\n",
    "    analyzer = SentimentIntensityAnalyzer()\n",
    "    try:\n",
    "        with open(sub_path, \"r\", encoding=\"utf-8\") as f:\n",
    "            text = f.read()\n",
    "        score = analyzer.polarity_scores(text)\n",
    "        return np.array([score[\"neg\"], score[\"neu\"], score[\"pos\"], score[\"compound\"]])\n",
    "    except Exception as e:\n",
    "        print(f\"[WARN] Text extraction failed for {sub_path}: {e}\")\n",
    "        return np.zeros(4)\n",
    "\n",
    "# ---------------- MAIN ----------------\n",
    "def main():\n",
    "    if not os.path.exists(MODEL_PATH):\n",
    "        raise FileNotFoundError(f\"Model not found at {MODEL_PATH}. Run training first.\")\n",
    "\n",
    "    # Load trained model\n",
    "    with open(MODEL_PATH, \"rb\") as f:\n",
    "        model = pickle.load(f)\n",
    "\n",
    "    results = []\n",
    "\n",
    "    # Predict for each video+subtitle pair\n",
    "    for vid, sub in INPUTS:\n",
    "        vpath = os.path.join(BASE_DIR, \"archive\", vid)\n",
    "        spath = os.path.join(BASE_DIR, \"archive\", sub)\n",
    "\n",
    "        print(f\"[INFO] Predicting {vpath} + {spath}\")\n",
    "\n",
    "        vfeat = extract_video_features(vpath)\n",
    "        afeat = extract_audio_features(vpath)\n",
    "        tfeat = extract_text_features(spath)\n",
    "\n",
    "        feat = np.concatenate([vfeat, afeat, tfeat]).reshape(1, -1)\n",
    "\n",
    "        pred = model.predict(feat)[0]\n",
    "        prob = model.predict_proba(feat)[0].max()\n",
    "\n",
    "        results.append({\n",
    "            \"video\": vid,\n",
    "            \"subtitle\": sub,\n",
    "            \"predicted_label\": int(pred),\n",
    "            \"confidence\": float(prob)\n",
    "        })\n",
    "\n",
    "    # Save results to CSV\n",
    "    df = pd.DataFrame(results)\n",
    "    df.to_csv(OUT_CSV, index=False)\n",
    "\n",
    "    print(f\"[DONE] Predictions saved to {OUT_CSV}\")\n",
    "    print(df)\n",
    "\n",
    "if __name__ == \"__main__\":\n",
    "    main()\n"
   ]
  },
  {
   "cell_type": "code",
   "execution_count": null,
   "id": "2c49e501-6f95-42cc-8308-6de69c484920",
   "metadata": {},
   "outputs": [],
   "source": []
  }
 ],
 "metadata": {
  "kernelspec": {
   "display_name": "Python 3 (ipykernel)",
   "language": "python",
   "name": "python3"
  },
  "language_info": {
   "codemirror_mode": {
    "name": "ipython",
    "version": 3
   },
   "file_extension": ".py",
   "mimetype": "text/x-python",
   "name": "python",
   "nbconvert_exporter": "python",
   "pygments_lexer": "ipython3",
   "version": "3.11.9"
  }
 },
 "nbformat": 4,
 "nbformat_minor": 5
}
