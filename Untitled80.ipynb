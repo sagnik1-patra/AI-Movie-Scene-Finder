{
 "cells": [
  {
   "cell_type": "code",
   "execution_count": 1,
   "id": "b45aff08-e355-4ed6-bf4b-6426906b67c4",
   "metadata": {},
   "outputs": [
    {
     "name": "stdout",
     "output_type": "stream",
     "text": [
      "[INFO] Processing C:\\Users\\NXTWAVE\\Downloads\\AI Movie Scene Finder\\archive\\1.mp4 + C:\\Users\\NXTWAVE\\Downloads\\AI Movie Scene Finder\\archive\\1.txt\n"
     ]
    },
    {
     "name": "stderr",
     "output_type": "stream",
     "text": [
      "C:\\Users\\NXTWAVE\\AppData\\Local\\Temp\\ipykernel_28792\\1368548363.py:48: UserWarning: PySoundFile failed. Trying audioread instead.\n",
      "  y, sr = librosa.load(video_path, sr=22050)\n",
      "C:\\Users\\NXTWAVE\\AppData\\Local\\Programs\\Python\\Python311\\Lib\\site-packages\\librosa\\core\\audio.py:184: FutureWarning: librosa.core.audio.__audioread_load\n",
      "\tDeprecated as of librosa version 0.10.0.\n",
      "\tIt will be removed in librosa version 1.0.\n",
      "  y, sr_native = __audioread_load(path, offset, duration, dtype)\n"
     ]
    },
    {
     "name": "stdout",
     "output_type": "stream",
     "text": [
      "[WARN] Audio extraction failed for C:\\Users\\NXTWAVE\\Downloads\\AI Movie Scene Finder\\archive\\1.mp4: \n",
      "[INFO] Processing C:\\Users\\NXTWAVE\\Downloads\\AI Movie Scene Finder\\archive\\2.mp4 + C:\\Users\\NXTWAVE\\Downloads\\AI Movie Scene Finder\\archive\\2.txt\n",
      "[WARN] Audio extraction failed for C:\\Users\\NXTWAVE\\Downloads\\AI Movie Scene Finder\\archive\\2.mp4: \n",
      "[INFO] Processing C:\\Users\\NXTWAVE\\Downloads\\AI Movie Scene Finder\\archive\\3.mp4 + C:\\Users\\NXTWAVE\\Downloads\\AI Movie Scene Finder\\archive\\3.txt\n",
      "[WARN] Audio extraction failed for C:\\Users\\NXTWAVE\\Downloads\\AI Movie Scene Finder\\archive\\3.mp4: \n",
      "[INFO] Processing C:\\Users\\NXTWAVE\\Downloads\\AI Movie Scene Finder\\archive\\4.mp4 + C:\\Users\\NXTWAVE\\Downloads\\AI Movie Scene Finder\\archive\\4.txt\n",
      "[WARN] Audio extraction failed for C:\\Users\\NXTWAVE\\Downloads\\AI Movie Scene Finder\\archive\\4.mp4: \n",
      "[INFO] Processing C:\\Users\\NXTWAVE\\Downloads\\AI Movie Scene Finder\\archive\\5.mp4 + C:\\Users\\NXTWAVE\\Downloads\\AI Movie Scene Finder\\archive\\5.txt\n",
      "[WARN] Audio extraction failed for C:\\Users\\NXTWAVE\\Downloads\\AI Movie Scene Finder\\archive\\5.mp4: \n",
      "[RESULT] Accuracy: 0.5\n",
      "[RESULT] Classification Report:\n",
      "               precision    recall  f1-score   support\n",
      "\n",
      "           0       0.50      1.00      0.67         1\n",
      "           1       0.00      0.00      0.00         1\n",
      "\n",
      "    accuracy                           0.50         2\n",
      "   macro avg       0.25      0.50      0.33         2\n",
      "weighted avg       0.25      0.50      0.33         2\n",
      "\n"
     ]
    },
    {
     "name": "stderr",
     "output_type": "stream",
     "text": [
      "C:\\Users\\NXTWAVE\\AppData\\Local\\Programs\\Python\\Python311\\Lib\\site-packages\\sklearn\\metrics\\_classification.py:1731: UndefinedMetricWarning: Precision is ill-defined and being set to 0.0 in labels with no predicted samples. Use `zero_division` parameter to control this behavior.\n",
      "  _warn_prf(average, modifier, f\"{metric.capitalize()} is\", result.shape[0])\n",
      "C:\\Users\\NXTWAVE\\AppData\\Local\\Programs\\Python\\Python311\\Lib\\site-packages\\sklearn\\metrics\\_classification.py:1731: UndefinedMetricWarning: Precision is ill-defined and being set to 0.0 in labels with no predicted samples. Use `zero_division` parameter to control this behavior.\n",
      "  _warn_prf(average, modifier, f\"{metric.capitalize()} is\", result.shape[0])\n",
      "C:\\Users\\NXTWAVE\\AppData\\Local\\Programs\\Python\\Python311\\Lib\\site-packages\\sklearn\\metrics\\_classification.py:1731: UndefinedMetricWarning: Precision is ill-defined and being set to 0.0 in labels with no predicted samples. Use `zero_division` parameter to control this behavior.\n",
      "  _warn_prf(average, modifier, f\"{metric.capitalize()} is\", result.shape[0])\n"
     ]
    },
    {
     "data": {
      "image/png": "[encoded data removed]",
      "text/plain": [
       "<Figure size 500x400 with 1 Axes>"
      ]
     },
     "metadata": {},
     "output_type": "display_data"
    },
    {
     "data": {
      "image/png": "[encoded data removed]",
      "text/plain": [
       "<Figure size 600x500 with 2 Axes>"
      ]
     },
     "metadata": {},
     "output_type": "display_data"
    }
   ],
   "source": [
    "import os\n",
    "import pickle\n",
    "import numpy as np\n",
    "import cv2\n",
    "import librosa\n",
    "import matplotlib.pyplot as plt\n",
    "import seaborn as sns\n",
    "\n",
    "from vaderSentiment.vaderSentiment import SentimentIntensityAnalyzer\n",
    "from sklearn.linear_model import LogisticRegression\n",
    "from sklearn.preprocessing import StandardScaler\n",
    "from sklearn.pipeline import Pipeline\n",
    "from sklearn.model_selection import train_test_split\n",
    "from sklearn.metrics import accuracy_score, confusion_matrix, classification_report\n",
    "\n",
    "# ---------------- CONFIG ----------------\n",
    "BASE_DIR = r\"C:\\Users\\NXTWAVE\\Downloads\\AI Movie Scene Finder\"\n",
    "INPUTS = [\n",
    "    (\"1.mp4\", \"1.txt\"),\n",
    "    (\"2.mp4\", \"2.txt\"),\n",
    "    (\"3.mp4\", \"3.txt\"),\n",
    "    (\"4.mp4\", \"4.txt\"),\n",
    "    (\"5.mp4\", \"5.txt\"),\n",
    "]\n",
    "\n",
    "# ---------------- HELPERS ----------------\n",
    "def extract_video_features(video_path, frame_skip=30):\n",
    "    \"\"\"Extract average color histograms as simple scene features.\"\"\"\n",
    "    cap = cv2.VideoCapture(video_path)\n",
    "    frames = []\n",
    "    idx = 0\n",
    "    while cap.isOpened():\n",
    "        ret, frame = cap.read()\n",
    "        if not ret:\n",
    "            break\n",
    "        if idx % frame_skip == 0:\n",
    "            hist = cv2.calcHist([frame], [0, 1, 2], None, [8, 8, 8],\n",
    "                                [0, 256, 0, 256, 0, 256])\n",
    "            hist = cv2.normalize(hist, hist).flatten()\n",
    "            frames.append(hist)\n",
    "        idx += 1\n",
    "    cap.release()\n",
    "    return np.array(frames).mean(axis=0)\n",
    "\n",
    "def extract_audio_features(video_path):\n",
    "    \"\"\"Extract MFCC audio features.\"\"\"\n",
    "    try:\n",
    "        y, sr = librosa.load(video_path, sr=22050)\n",
    "        mfcc = librosa.feature.mfcc(y=y, sr=sr, n_mfcc=13)\n",
    "        return mfcc.mean(axis=1)\n",
    "    except Exception as e:\n",
    "        print(f\"[WARN] Audio extraction failed for {video_path}: {e}\")\n",
    "        return np.zeros(13)\n",
    "\n",
    "def extract_text_features(sub_path):\n",
    "    \"\"\"Extract sentiment score from subtitles/text.\"\"\"\n",
    "    analyzer = SentimentIntensityAnalyzer()\n",
    "    try:\n",
    "        with open(sub_path, \"r\", encoding=\"utf-8\") as f:\n",
    "            text = f.read()\n",
    "        score = analyzer.polarity_scores(text)\n",
    "        return np.array([score[\"neg\"], score[\"neu\"], score[\"pos\"], score[\"compound\"]])\n",
    "    except Exception as e:\n",
    "        print(f\"[WARN] Text extraction failed for {sub_path}: {e}\")\n",
    "        return np.zeros(4)\n",
    "\n",
    "# ---------------- MAIN ----------------\n",
    "def main():\n",
    "    all_features = []\n",
    "    all_labels = []\n",
    "\n",
    "    # Extract features for each video+subtitle\n",
    "    for vid, sub in INPUTS:\n",
    "        vpath = os.path.join(BASE_DIR, \"archive\", vid)\n",
    "        spath = os.path.join(BASE_DIR, \"archive\", sub)\n",
    "\n",
    "        print(f\"[INFO] Processing {vpath} + {spath}\")\n",
    "\n",
    "        vfeat = extract_video_features(vpath)\n",
    "        afeat = extract_audio_features(vpath)\n",
    "        tfeat = extract_text_features(spath)\n",
    "\n",
    "        feat = np.concatenate([vfeat, afeat, tfeat])\n",
    "        all_features.append(feat)\n",
    "\n",
    "        # Fake labels for demo (0/1) – replace with real mood labels later\n",
    "        all_labels.append(np.random.randint(0, 2))\n",
    "\n",
    "    X = np.array(all_features)\n",
    "    y = np.array(all_labels)\n",
    "\n",
    "    # Train/test split\n",
    "    Xtr, Xte, ytr, yte = train_test_split(X, y, test_size=0.4, random_state=42)\n",
    "\n",
    "    # Train pipeline\n",
    "    pipe = Pipeline([\n",
    "        (\"scaler\", StandardScaler()),\n",
    "        (\"clf\", LogisticRegression(max_iter=500))\n",
    "    ])\n",
    "    pipe.fit(Xtr, ytr)\n",
    "\n",
    "    # Predictions\n",
    "    ypred = pipe.predict(Xte)\n",
    "    acc = accuracy_score(yte, ypred)\n",
    "    cm = confusion_matrix(yte, ypred)\n",
    "\n",
    "    print(\"[RESULT] Accuracy:\", acc)\n",
    "    print(\"[RESULT] Classification Report:\\n\", classification_report(yte, ypred))\n",
    "\n",
    "    # -------- PLOT ON SCREEN --------\n",
    "    # Accuracy bar plot\n",
    "    plt.figure(figsize=(5, 4))\n",
    "    plt.bar([\"Accuracy\"], [acc], color=\"skyblue\")\n",
    "    plt.ylim(0, 1)\n",
    "    plt.title(\"Model Accuracy\")\n",
    "    plt.show()\n",
    "\n",
    "    # Confusion matrix heatmap\n",
    "    plt.figure(figsize=(6, 5))\n",
    "    sns.heatmap(cm, annot=True, fmt=\"d\", cmap=\"Blues\", xticklabels=[0, 1], yticklabels=[0, 1])\n",
    "    plt.xlabel(\"Predicted\")\n",
    "    plt.ylabel(\"True\")\n",
    "    plt.title(\"Confusion Matrix Heatmap\")\n",
    "    plt.show()\n",
    "\n",
    "if __name__ == \"__main__\":\n",
    "    main()\n"
   ]
  },
  {
   "cell_type": "code",
   "execution_count": null,
   "id": "bbd665a6-e77f-4f71-86d4-6460772cf867",
   "metadata": {},
   "outputs": [],
   "source": []
  }
 ],
 "metadata": {
  "kernelspec": {
   "display_name": "Python 3 (ipykernel)",
   "language": "python",
   "name": "python3"
  },
  "language_info": {
   "codemirror_mode": {
    "name": "ipython",
    "version": 3
   },
   "file_extension": ".py",
   "mimetype": "text/x-python",
   "name": "python",
   "nbconvert_exporter": "python",
   "pygments_lexer": "ipython3",
   "version": "3.11.9"
  }
 },
 "nbformat": 4,
 "nbformat_minor": 5
}
